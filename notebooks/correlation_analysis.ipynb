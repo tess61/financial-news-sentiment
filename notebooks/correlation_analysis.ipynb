{
 "cells": [
  {
   "cell_type": "code",
   "execution_count": 13,
   "id": "5054a220",
   "metadata": {},
   "outputs": [
    {
     "name": "stdout",
     "output_type": "stream",
     "text": [
      "   Unnamed: 0                                           headline  \\\n",
      "0           0            Stocks That Hit 52-Week Highs On Friday   \n",
      "1           1         Stocks That Hit 52-Week Highs On Wednesday   \n",
      "2           2                      71 Biggest Movers From Friday   \n",
      "3           3       46 Stocks Moving In Friday's Mid-Day Session   \n",
      "4           4  B of A Securities Maintains Neutral on Agilent...   \n",
      "\n",
      "                                                 url          publisher  \\\n",
      "0  https://www.benzinga.com/news/20/06/16190091/s...  Benzinga Insights   \n",
      "1  https://www.benzinga.com/news/20/06/16170189/s...  Benzinga Insights   \n",
      "2  https://www.benzinga.com/news/20/05/16103463/7...         Lisa Levin   \n",
      "3  https://www.benzinga.com/news/20/05/16095921/4...         Lisa Levin   \n",
      "4  https://www.benzinga.com/news/20/05/16095304/b...         Vick Meyer   \n",
      "\n",
      "                        date stock  headline_length  date_only  hour  \\\n",
      "0  2020-06-05 10:30:54-04:00     A               39 2020-06-05  10.0   \n",
      "1  2020-06-03 10:45:20-04:00     A               42 2020-06-03  10.0   \n",
      "2  2020-05-26 04:30:07-04:00     A               29 2020-05-26   4.0   \n",
      "3  2020-05-22 12:45:06-04:00     A               44 2020-05-22  12.0   \n",
      "4  2020-05-22 11:38:59-04:00     A               87 2020-05-22  11.0   \n",
      "\n",
      "                                    cleaned_headline  sentiment  \\\n",
      "0                       stocks hit week highs friday      0.000   \n",
      "1                    stocks hit week highs wednesday      0.000   \n",
      "2                              biggest movers friday      0.000   \n",
      "3               stocks moving fridays midday session      0.000   \n",
      "4  b securities maintains neutral agilent technol...      0.296   \n",
      "\n",
      "  sentiment_label  \n",
      "0         neutral  \n",
      "1         neutral  \n",
      "2         neutral  \n",
      "3         neutral  \n",
      "4        positive  \n"
     ]
    }
   ],
   "source": [
    "import pandas as pd\n",
    "import numpy as np\n",
    "import matplotlib.pyplot as plt\n",
    "import seaborn as sns\n",
    "from scipy.stats import pearsonr\n",
    "import os\n",
    "\n",
    "# Load processed news data\n",
    "news_df = pd.read_csv('../data/FNSPID_processed.csv')\n",
    "news_df['date_only'] = pd.to_datetime(news_df['date_only'])\n",
    "\n",
    "# Verify data\n",
    "print(news_df.head())"
   ]
  }
 ],
 "metadata": {
  "kernelspec": {
   "display_name": "week1",
   "language": "python",
   "name": "python3"
  },
  "language_info": {
   "codemirror_mode": {
    "name": "ipython",
    "version": 3
   },
   "file_extension": ".py",
   "mimetype": "text/x-python",
   "name": "python",
   "nbconvert_exporter": "python",
   "pygments_lexer": "ipython3",
   "version": "3.13.3"
  }
 },
 "nbformat": 4,
 "nbformat_minor": 5
}
